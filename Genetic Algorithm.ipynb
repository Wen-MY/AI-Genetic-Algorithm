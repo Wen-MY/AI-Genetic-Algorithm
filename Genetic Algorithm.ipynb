{
 "cells": [
  {
   "attachments": {},
   "cell_type": "markdown",
   "id": "19195cbc",
   "metadata": {},
   "source": [
    "# Artificial Intelligence\n",
    "\n",
    "# Genetic Algorithm"
   ]
  },
  {
   "attachments": {},
   "cell_type": "markdown",
   "id": "3a397f6c",
   "metadata": {},
   "source": [
    "## An Overview of the Travelling Salesman Problem"
   ]
  },
  {
   "attachments": {},
   "cell_type": "markdown",
   "id": "770d5880",
   "metadata": {},
   "source": [
    "In the travelling salesman problem, a salesperson wish to find the shortest path that passes through all cities s/he wishes to visit given the coordinates of a set of cities. The salesperson should visit each of the cities once only, and so:\n",
    "\n",
    "a. Each path consists all cities in the set.\n",
    "\n",
    "b. Each path visits each of the cities once only. So, none of the cities are visited more than once. "
   ]
  },
  {
   "attachments": {},
   "cell_type": "markdown",
   "id": "0d5d37c8",
   "metadata": {},
   "source": [
    "## Imports"
   ]
  },
  {
   "cell_type": "code",
   "execution_count": 6,
   "id": "86227049",
   "metadata": {},
   "outputs": [],
   "source": [
    "%matplotlib inline\n",
    "\n",
    "# Please add more imports if you need them \n",
    "\n",
    "import random\n",
    "import time\n",
    "import csv\n",
    "\n",
    "import numpy as np\n",
    "import pandas as pd\n",
    "import matplotlib.pyplot as plt\n",
    "\n",
    "from pprint import pprint as print "
   ]
  },
  {
   "attachments": {},
   "cell_type": "markdown",
   "id": "420ef0f6",
   "metadata": {},
   "source": [
    "## Concrete Classes"
   ]
  },
  {
   "attachments": {},
   "cell_type": "markdown",
   "id": "c8335dc9",
   "metadata": {},
   "source": [
    "### City"
   ]
  },
  {
   "attachments": {},
   "cell_type": "markdown",
   "id": "793d7c06",
   "metadata": {},
   "source": [
    "The City class, which represents a city, possesses the properties of the city and has functions/ methods used for calculating the distance between the city and another city. Each path, represented by a chromosome, is formed by a set of cities.   "
   ]
  },
  {
   "cell_type": "code",
   "execution_count": 7,
   "id": "6a3d4ad0",
   "metadata": {},
   "outputs": [],
   "source": [
    "class City:\n",
    "    def __init__(self, x, y):\n",
    "        self.x = x\n",
    "        self.y = y\n",
    "        \n",
    "    def distance(self, city):\n",
    "        xDis = abs(self.x - city.x)\n",
    "        yDis = abs(self.y - city.y)\n",
    "        distance = np.sqrt((xDis ** 2) + (yDis ** 2))\n",
    "        return distance\n",
    "    \n",
    "    def __repr__(self):\n",
    "        return \"(\" + str(self.x) + \",\" + str(self.y) + \")\""
   ]
  },
  {
   "attachments": {},
   "cell_type": "markdown",
   "id": "17c39cd9",
   "metadata": {},
   "source": [
    "### Fitness"
   ]
  },
  {
   "attachments": {},
   "cell_type": "markdown",
   "id": "d1337f65",
   "metadata": {},
   "source": [
    "The Fitness class, which represents the fitness function, possesses the properties of a path and has functions/methods used for calculating the fitness value of the path, which is based on the distance of the path. "
   ]
  },
  {
   "cell_type": "code",
   "execution_count": 8,
   "id": "b9eca58a",
   "metadata": {},
   "outputs": [],
   "source": [
    "class Fitness:\n",
    "    def __init__(self, route):\n",
    "        self.route = route\n",
    "        self.distance = None\n",
    "        self.fitness = None\n",
    "    \n",
    "    def routeDistance(self):\n",
    "        if self.distance == None:\n",
    "            pathDistance = 0.0\n",
    "            for i in range(0, len(self.route)):\n",
    "                fromCity = self.route[i]\n",
    "                toCity = None\n",
    "                if i+1 < len(self.route):\n",
    "                    toCity = self.route[i+1]\n",
    "                else:\n",
    "                    toCity = self.route[0]\n",
    "                pathDistance += fromCity.distance(toCity)\n",
    "            self.distance = pathDistance\n",
    "        return self.distance\n",
    "    \n",
    "    def routeFitness(self):\n",
    "        if self.fitness == None:\n",
    "        # Fitness function (Simple division) that uses a simple \n",
    "        # division that divides one by the distance of the path\n",
    "            self.fitness = 1 / float(self.routeDistance()) \n",
    "            # Note: ensure a division by zero does not occur \n",
    "        return self.fitness\n"
   ]
  },
  {
   "attachments": {},
   "cell_type": "markdown",
   "id": "e9ecd81d",
   "metadata": {},
   "source": [
    "## Population Initialization  "
   ]
  },
  {
   "attachments": {},
   "cell_type": "markdown",
   "id": "02544afb",
   "metadata": {},
   "source": [
    "The population initialization function (or method) performs random initialization. This creates an initial population with completely random chromosomes (or solutions). There are three functions related to population initialization. \n",
    "\n",
    "The first function is genCityList() which generates a set of cities from a file.  "
   ]
  },
  {
   "cell_type": "code",
   "execution_count": 95,
   "id": "9d39ed7e",
   "metadata": {},
   "outputs": [],
   "source": [
    "def genCityList(filename):\n",
    "    cityList = []\n",
    "    \n",
    "    # Replace the following codes that generate 12 random cities.\n",
    "    # an initial population.  \n",
    "    \n",
    "    \n",
    "\n",
    "    df = pd.read_csv(filename,sep=\" |\\t\",names=[\"number\",\"X\",\"Y\"],engine=\"python\") #extract data from text file\n",
    "    rng = np.random.default_rng(seed=1) #use for make each randomize output to same , for evaluating the parent selection\n",
    "    #rng = np.random.default_rng(seed=None) \n",
    "    random_index = rng.choice(len(df), replace = True, size = 12)\n",
    "    temp = df.iloc[random_index]\n",
    "    for i in range (12): #for 12 times\n",
    "        cityList.append(City(x=temp.iloc[i,1],y=temp.iloc[i,2])) #assign the selected column to city and add it into city's list\n",
    "    \n",
    "    return cityList"
   ]
  },
  {
   "attachments": {},
   "cell_type": "markdown",
   "id": "e4888778",
   "metadata": {},
   "source": [
    "The second function is createRoute() which generates a random route (chromosome) from a set of City instances."
   ]
  },
  {
   "cell_type": "code",
   "execution_count": 10,
   "id": "1f9ac614",
   "metadata": {},
   "outputs": [],
   "source": [
    "def createRoute(cityList):\n",
    "    route = random.sample(cityList, len(cityList))\n",
    "    return route"
   ]
  },
  {
   "attachments": {},
   "cell_type": "markdown",
   "id": "f0c11bbb",
   "metadata": {},
   "source": [
    "The third function is initialPopulation() which calls the second function repeatedly to create an initial population (a list of routes)."
   ]
  },
  {
   "cell_type": "code",
   "execution_count": 11,
   "id": "4ae07df2",
   "metadata": {},
   "outputs": [],
   "source": [
    "def initialPopulation(popSize, cityList):\n",
    "    population = []\n",
    "    for i in range(0, popSize):\n",
    "        population.append(createRoute(cityList))\n",
    "    return population"
   ]
  },
  {
   "attachments": {},
   "cell_type": "markdown",
   "id": "ed5c9a1d",
   "metadata": {},
   "source": [
    "\n",
    "\n",
    "Sample run 1 initializes 12 cities in cityList as follows:"
   ]
  },
  {
   "attachments": {},
   "cell_type": "markdown",
   "id": "dbce56f2",
   "metadata": {},
   "source": [
    "cityList = genCityList('cities10.txt') \n",
    "print(cityList)"
   ]
  },
  {
   "attachments": {},
   "cell_type": "markdown",
   "id": "00b4e341",
   "metadata": {},
   "source": [
    "Sample run 2 initializes 12 cities in cityList and creates a population with three routes as follows:"
   ]
  },
  {
   "attachments": {},
   "cell_type": "markdown",
   "id": "e7f8538a",
   "metadata": {},
   "source": [
    "cityList = genCityList('cities10.txt') \n",
    "population = initialPopulation(3, cityList) \n",
    "print(population)"
   ]
  },
  {
   "attachments": {},
   "cell_type": "markdown",
   "id": "f8aac59f",
   "metadata": {},
   "source": [
    "## Selection"
   ]
  },
  {
   "attachments": {},
   "cell_type": "markdown",
   "id": "cb5cfd2d",
   "metadata": {},
   "source": [
    "Parents selection selects chromosomes with high fitness values from a population. Survivor selection selects chromosomes with higher fitness values to form the population of the next generation. The population size is len(population), so we have len(population) in this population. "
   ]
  },
  {
   "attachments": {},
   "cell_type": "markdown",
   "id": "91040238",
   "metadata": {},
   "source": [
    "### Parent Selection\n",
    "\n",
    "There are three implementations for parent selection. The first parentSelection() performs random selection."
   ]
  },
  {
   "cell_type": "code",
   "execution_count": 12,
   "id": "3add27f7",
   "metadata": {},
   "outputs": [],
   "source": [
    "def parentSelection(population, poolSize=None):\n",
    "    if poolSize == None:\n",
    "        poolSize = len(population)\n",
    "        \n",
    "    matingPool = []\n",
    "    \n",
    "    for i in range(0, poolSize):\n",
    "        fitness = Fitness(population[i]).routeFitness()\n",
    "        matingPool.append(random.choice(population))\n",
    "      \n",
    "    return matingPool"
   ]
  },
  {
   "attachments": {},
   "cell_type": "markdown",
   "id": "7d7aedb6",
   "metadata": {},
   "source": [
    "The second parentSelection() performs Tournament Selection."
   ]
  },
  {
   "cell_type": "code",
   "execution_count": 13,
   "id": "53e6ed39",
   "metadata": {},
   "outputs": [],
   "source": [
    "def parentSelectionT(population, poolSize=None):\n",
    "    \n",
    "    # Replace the dummy parent selection function below with  \n",
    "    # Tournament Selection.\n",
    "      \n",
    "    \n",
    "    # compare the performance achieved by Random Selection, \n",
    "    # Tournament Selection, during performance evaluation \n",
    "    # run either Random Selection, Tournament Selection, or\n",
    "    \n",
    "    if poolSize == None:\n",
    "        poolSize = len(population)\n",
    "        \n",
    "    matingPool = []\n",
    "\n",
    "    TournamentPool=population.copy()\n",
    "    for x in range(0,2):\n",
    "        tournament = random.choices(TournamentPool, k=5) #tournament size = 5\n",
    "        max_fitness = Fitness(tournament[0]).routeFitness()\n",
    "        winner = tournament[0]\n",
    "        for i in range (1,len(tournament)):\n",
    "            fitness = Fitness(tournament[i]).routeFitness()\n",
    "            if max_fitness < fitness:\n",
    "                max_fitness = Fitness(tournament[i]).routeFitness()\n",
    "                winner = tournament[i]\n",
    "        matingPool.append(winner) # append winner into mating pool\n",
    "        TournamentPool.remove(winner) #remove the first winner to prevent duplicate parent selection\n",
    "    \n",
    "    return matingPool"
   ]
  },
  {
   "attachments": {},
   "cell_type": "markdown",
   "id": "4bb238e2",
   "metadata": {},
   "source": [
    "The third parentSelection() performs Proportional Selection."
   ]
  },
  {
   "cell_type": "code",
   "execution_count": 14,
   "id": "2ccaef4a",
   "metadata": {},
   "outputs": [],
   "source": [
    "def parentSelectionR(population, poolSize=None):\n",
    "    \n",
    "    # Replace the dummy parent selection function below with  \n",
    "    # Proportional Selection.\n",
    "       \n",
    "    # compare the performance achieved by Random Selection, \n",
    "    # Proportional Selection during performance evaluation \n",
    "    \n",
    "    if poolSize == None:\n",
    "        poolSize = len(population)\n",
    "        \n",
    "    matingPool = []\n",
    "    \n",
    "    # Replacement starts here\n",
    "    prbs = []\n",
    "    sum = 0\n",
    "    for i in range(len(population)):  # Computes the totallity of the population fitness\n",
    "        sum += Fitness(population[i]).routeFitness() \n",
    "    for i in range(len(population)):      # Computes for each route the probability \n",
    "         prbs.append(Fitness(population[i]).routeFitness()/sum)\n",
    "    winner = np.random.choice(len(population),2,replace=False,p = prbs)   # Making the probabilities for a minimization problem\n",
    "    for x in range(0,2): #adding winners into matingPool\n",
    "        matingPool.append(population[winner[x]])\n",
    "    # Replacement ends here\n",
    "    \n",
    "    return matingPool"
   ]
  },
  {
   "attachments": {},
   "cell_type": "markdown",
   "id": "767df4e1",
   "metadata": {},
   "source": [
    "### Survival Selection"
   ]
  },
  {
   "cell_type": "code",
   "execution_count": 15,
   "id": "80f74e5a",
   "metadata": {},
   "outputs": [],
   "source": [
    "def survivorSelection(population, eliteSize):\n",
    "    \n",
    "    # Replace the dummy survival selection function below with  \n",
    "    # Merge, Sort & Truncate.\n",
    "      \n",
    "    \n",
    "    elites = []\n",
    "    \n",
    "    eliminations = population.copy()\n",
    "    for i in range(eliteSize):\n",
    "        max_fitness = Fitness(eliminations[0]).routeFitness()\n",
    "        elite = eliminations[0]\n",
    "        for x in range(1,len(eliminations)):\n",
    "            fitness = Fitness(eliminations[x]).routeFitness()\n",
    "            if max_fitness < fitness:\n",
    "                max_fitness = Fitness(eliminations[x]).routeFitness()\n",
    "                elite = eliminations[x]\n",
    "        elites.append(elite)\n",
    "        eliminations.remove(elite)\n",
    "    \n",
    "    return elites"
   ]
  },
  {
   "attachments": {},
   "cell_type": "markdown",
   "id": "c003d631",
   "metadata": {},
   "source": [
    "\n",
    "\n",
    "Sample run 1 initializes 12 cities in cityList, creates a population with four routes, and creates a pool of parents as follows:"
   ]
  },
  {
   "attachments": {},
   "cell_type": "markdown",
   "id": "cb064cc7",
   "metadata": {},
   "source": [
    "population = initialPopulation(4, genCityList('cities10.txt'))\n",
    "matingpool = parentSelection(population, 4) \n",
    "print('Initial population') \n",
    "print(population) \n",
    "print('Mating pool') \n",
    "print(matingpool)"
   ]
  },
  {
   "attachments": {},
   "cell_type": "markdown",
   "id": "c4431342",
   "metadata": {},
   "source": [
    "Sample run 2 initializes 12 cities in cityList, creates a population with four routes, select an elite chromosome as follows:"
   ]
  },
  {
   "attachments": {},
   "cell_type": "markdown",
   "id": "d5a0593b",
   "metadata": {},
   "source": [
    "population = initialPopulation(4, genCityList('cities10.txt'))\n",
    "elites = survivorSelection(population, 1)\n",
    "print('Initial population')\n",
    "print(population)\n",
    "print('Selected elites')\n",
    "print(elites)"
   ]
  },
  {
   "attachments": {},
   "cell_type": "markdown",
   "id": "ebba82a2",
   "metadata": {},
   "source": [
    "## Crossover\n"
   ]
  },
  {
   "attachments": {},
   "cell_type": "markdown",
   "id": "3c655d11",
   "metadata": {},
   "source": [
    "Crossover selects two parents, crossover the genetic materials of the parents, and produce one or more children. In the Travelling Salesman Problem, each travelling path must be valid. Each path consists all cities in the set, and each path visits each of the cities once only. So, none of the cities are visited more than once. Exchanging parts of two chromosomes tend to produce invalid paths. As an example, Parent 1 is [2 1 0 7 3 5 4 6] and Parent 2 is [6 1 0 5 2 3 4 7]. One point crossover at midpoint generates Child 1 [2 1 0 7 2 3 4 7] and Child 2 [6 1 0 5 3 5 4 6]. Both children are invalid paths.     "
   ]
  },
  {
   "cell_type": "code",
   "execution_count": 36,
   "id": "2bb0c8be",
   "metadata": {},
   "outputs": [],
   "source": [
    "def crossover(parent1, parent2):\n",
    "    \n",
    "    # Replace the dummy crossover function below with \n",
    "    # Partially Mapped Crossover approach.\n",
    "   \n",
    "    \n",
    "    #define the crossover point \n",
    "    #first this using fixed crossover point which 3 and 6\n",
    "    crossoverpoint1 = 3\n",
    "    crossoverpoint2 = 9\n",
    "    #second this using random crossover point which will sure not duplicate\n",
    "    #rng = np.random.default_rng(seed=seed)\n",
    "    #crossoverpoint1, crossoverpoint2 = np.sort(rng.choice(np.arange(len(parent1)-1), size=2, replace=False))\n",
    "    \n",
    "    #print (parent1) #debug purpose\n",
    "    #print (parent2) #debug purpose\n",
    "    \n",
    "    #define the crossover function that will not duplicate the gene which purposely for TSP problem\n",
    "    def PartialMappedCrossover(parent1,parent2):\n",
    "        child = []\n",
    "        count = 0\n",
    "        for i in parent1:\n",
    "            if(count == crossoverpoint1):\n",
    "                break\n",
    "            if(i not in parent2[crossoverpoint1:crossoverpoint2]):\n",
    "                child.append(i)\n",
    "                count= count+1\n",
    "\n",
    "        #select the genes within the crossover points from parent2          \n",
    "        child.extend(parent2[crossoverpoint1:crossoverpoint2])\n",
    "        #fill in the remaining genes in order of parent1\n",
    "        child.extend([x for x in parent1 if x not in child])\n",
    "        return child\n",
    "    child1 = PartialMappedCrossover(parent1,parent2)\n",
    "    #print(child1) #debug purpose\n",
    "    child2 = PartialMappedCrossover(parent2,parent1)\n",
    "    #print(child2) #debug purpose\n",
    "    \n",
    "    return child1, child2"
   ]
  },
  {
   "attachments": {},
   "cell_type": "markdown",
   "id": "48ca735c",
   "metadata": {},
   "source": [
    "Crossover selects two parents from the mating pool to produce a new generation of the same size."
   ]
  },
  {
   "cell_type": "code",
   "execution_count": 17,
   "id": "308e4680",
   "metadata": {},
   "outputs": [],
   "source": [
    "def breedPopulation(matingpool):\n",
    "    children = []\n",
    "    \n",
    "    # Choosing parents in their order of presence in the mating pool. Choosing parents\n",
    "    # in a random manner is possible. \n",
    "    \n",
    "    for i in range(1, len(matingpool), 2):\n",
    "        child1, child2 = crossover(matingpool[i-1], matingpool[i])\n",
    "        children.append(child1)\n",
    "        children.append(child2)\n",
    "    \n",
    "    return children"
   ]
  },
  {
   "attachments": {},
   "cell_type": "markdown",
   "id": "2152fd9e",
   "metadata": {},
   "source": [
    "You can run the above functions using the sample run below. To do so, simply change the cell type from Markdown to Code. The sample run initializes 2 chromosomes in the population, and performs crossover among the two parents. "
   ]
  },
  {
   "attachments": {},
   "cell_type": "markdown",
   "id": "7b02b58d",
   "metadata": {},
   "source": [
    "population = initialPopulation(2, genCityList('cities10.txt'))\n",
    "parent1, parent2 = population\n",
    "child1, child2 = crossover(parent1, parent2)\n",
    "print('Parents')\n",
    "print(parent1)\n",
    "print(parent2)\n",
    "print('Children')\n",
    "print(child1)\n",
    "print(child2)"
   ]
  },
  {
   "attachments": {},
   "cell_type": "markdown",
   "id": "0508e984",
   "metadata": {},
   "source": [
    "## Mutation"
   ]
  },
  {
   "attachments": {},
   "cell_type": "markdown",
   "id": "e741bcba",
   "metadata": {},
   "source": [
    "Mutation mutates a single chromosome to get a mutated chromosome so that genetic algorithm can converge to a shorter path quickly. In the Travelling Saleman Problem, a mutated chromosome must be a valid path. As an example, the shift mutation shifts a single gene in the [1 2 3 4 5 6 7 8 9 10] chromosome to generate the [1 2 4 5 6 7 3 8 9 10] mutated chromosome. As another example, the shift mutation shifts two consecutive genes in the [1 2 3 4 5 6 7 8 9 10] chromosome to generate the [1 4 5 6 7 2 3 8 9 10] mutated chromosome."
   ]
  },
  {
   "cell_type": "code",
   "execution_count": 18,
   "id": "fcc4c53b",
   "metadata": {},
   "outputs": [],
   "source": [
    "def mutate(route, mutationProbability):\n",
    "    \n",
    "    # Replace the dummy mutation function below with Insertion Mutation.\n",
    "    # The dummy mutation function simply swaps a city with the city before it.  \n",
    "   \n",
    "     \n",
    "    mutated_route = route[:]\n",
    "    for i in range(len(route)):\n",
    "        if (random.random() < mutationProbability):\n",
    "            # mutationProbability is the probability of a gene undergoing mutation\n",
    "            \n",
    "            city1 = route[i]\n",
    "            city2 = route[i-1]\n",
    "            mutated_route[i] = city2\n",
    "            mutated_route[i-1] = city1\n",
    "    return mutated_route"
   ]
  },
  {
   "attachments": {},
   "cell_type": "markdown",
   "id": "561658a7",
   "metadata": {},
   "source": [
    "Mutation runs over the entire population and mutates each chromosome in the population with a small mutationProbability. "
   ]
  },
  {
   "cell_type": "code",
   "execution_count": 19,
   "id": "18bcf873",
   "metadata": {},
   "outputs": [],
   "source": [
    "def mutation(population, mutationProbability):\n",
    "    mutatedPopulation = []\n",
    "    for i in range(0, len(population)):\n",
    "        mutatedIndividual = mutate(population[i], mutationProbability)\n",
    "        mutatedPopulation.append(mutatedIndividual)\n",
    "    return mutatedPopulation"
   ]
  },
  {
   "attachments": {},
   "cell_type": "markdown",
   "id": "e2c7728f",
   "metadata": {},
   "source": [
    "You can run the above functions using the sample run below. To do so, simply change the cell type from Markdown to Code. The sample run initializes a route comprised of 12 cities in cityList, and then mutates it as follows:"
   ]
  },
  {
   "attachments": {},
   "cell_type": "markdown",
   "id": "4b9fa051",
   "metadata": {},
   "source": [
    "route = genCityList('cities10.txt')\n",
    "mutated = mutate(route, 1)  # Give a pretty high chance for mutation\n",
    "print('Original route')\n",
    "print(route)\n",
    "print('Mutated route')\n",
    "print(mutated)"
   ]
  },
  {
   "attachments": {},
   "cell_type": "markdown",
   "id": "1c0cf960",
   "metadata": {},
   "source": [
    "## Running One Generation (or Interation)"
   ]
  },
  {
   "attachments": {},
   "cell_type": "markdown",
   "id": "2e4e26f5",
   "metadata": {},
   "source": [
    "Here, we run one generation of genetic algorithm. "
   ]
  },
  {
   "cell_type": "code",
   "execution_count": 78,
   "id": "57f76661",
   "metadata": {},
   "outputs": [],
   "source": [
    "def oneGeneration(population, eliteSize, mutationProbability):\n",
    "    \n",
    "    # First we preserve the elites\n",
    "    elites = survivorSelection(population, eliteSize)\n",
    "    \n",
    "    # Then we calculate what our mating pool size should be and generate\n",
    "    # the mating pool\n",
    "    poolSize = len(population) - eliteSize\n",
    "    matingpool = parentSelection(population, poolSize)\n",
    "        \n",
    "    # Then we perform crossover on the mating pool\n",
    "    children = breedPopulation(matingpool)\n",
    "    \n",
    "    # We combine the elites and children into one population\n",
    "    new_population = elites + children\n",
    "    \n",
    "    # We mutate the population\n",
    "    mutated_population = mutation(new_population, mutationProbability)\n",
    "        \n",
    "    return mutated_population"
   ]
  },
  {
   "attachments": {},
   "cell_type": "markdown",
   "id": "daa87ed8",
   "metadata": {},
   "source": [
    "You can run the above functions using the sample run below. To do so, simply change the cell type from Markdown to Code. The sample run initializes a population comprised of 5 chromosomes based on 12 cities in cityList, and then run one generation (or iteration) of genetic algorithm as follows:"
   ]
  },
  {
   "attachments": {},
   "cell_type": "markdown",
   "id": "0f2a347b",
   "metadata": {},
   "source": [
    "population = initialPopulation(5, genCityList('cities10.txt'))\n",
    "eliteSize = 1\n",
    "mutationProbability = 0.01\n",
    "new_population = oneGeneration(population, eliteSize, mutationProbability)\n",
    "print('Initial population')\n",
    "print(population)\n",
    "print('New population')\n",
    "print(new_population)"
   ]
  },
  {
   "attachments": {},
   "cell_type": "markdown",
   "id": "500893f7",
   "metadata": {},
   "source": [
    "## Running Many Generations (or Interations) "
   ]
  },
  {
   "cell_type": "code",
   "execution_count": 112,
   "id": "cc61b752",
   "metadata": {},
   "outputs": [
    {
     "name": "stdout",
     "output_type": "stream",
     "text": [
      "[(42033,82917),\n",
      " (42050,82583),\n",
      " (42100,83100),\n",
      " (42150,82967),\n",
      " (41800,82650),\n",
      " (41967,82533),\n",
      " (42133,82750),\n",
      " (42150,82967),\n",
      " (41983,82933),\n",
      " (42033,82750),\n",
      " (42133,82750),\n",
      " (42033,82917)]\n",
      "'Best distance for initial population: 2331.9864929194'\n",
      "'Best distance for population in iteration 0: 2331.9864929194'\n",
      "'Best distance for population in iteration 1: 1998.2241006225393'\n",
      "'Best distance for population in iteration 2: 1998.2241006225393'\n",
      "'Best distance for population in iteration 3: 1998.2241006225393'\n",
      "'Best distance for population in iteration 4: 1998.2241006225393'\n",
      "'Best distance for population in iteration 5: 1998.2241006225393'\n",
      "'Best distance for population in iteration 6: 1998.2241006225393'\n",
      "'Best distance for population in iteration 7: 1998.2241006225393'\n",
      "'Best distance for population in iteration 8: 1998.2241006225393'\n",
      "'Best distance for population in iteration 9: 1998.2241006225393'\n",
      "'Best distance for population in iteration 10: 1911.578454858661'\n",
      "'Best distance for population in iteration 11: 1911.578454858661'\n",
      "'Best distance for population in iteration 12: 1911.578454858661'\n",
      "'Best distance for population in iteration 13: 1911.578454858661'\n",
      "'Best distance for population in iteration 14: 1911.578454858661'\n",
      "'Best distance for population in iteration 15: 1911.578454858661'\n",
      "'Best distance for population in iteration 16: 1911.578454858661'\n",
      "'Best distance for population in iteration 17: 1784.2771869387063'\n",
      "'Best distance for population in iteration 18: 1784.2771869387063'\n",
      "'Best distance for population in iteration 19: 1784.2771869387063'\n",
      "'Best distance for population in iteration 20: 1666.9688625939868'\n",
      "'Best distance for population in iteration 21: 1666.9688625939868'\n",
      "'Best distance for population in iteration 22: 1666.9688625939868'\n",
      "'Best distance for population in iteration 23: 1666.9688625939868'\n",
      "'Best distance for population in iteration 24: 1666.9688625939868'\n",
      "'Best distance for population in iteration 25: 1666.9688625939868'\n",
      "'Best distance for population in iteration 26: 1666.9688625939868'\n",
      "'Best distance for population in iteration 27: 1666.9688625939868'\n",
      "'Best distance for population in iteration 28: 1666.9688625939868'\n",
      "'Best distance for population in iteration 29: 1666.9688625939868'\n",
      "'Best distance for population in iteration 30: 1666.9688625939868'\n",
      "'Best distance for population in iteration 31: 1666.9688625939868'\n",
      "'Best distance for population in iteration 32: 1666.9688625939868'\n",
      "'Best distance for population in iteration 33: 1666.9688625939868'\n",
      "'Best distance for population in iteration 34: 1666.9688625939868'\n",
      "'Best distance for population in iteration 35: 1666.9688625939868'\n",
      "'Best distance for population in iteration 36: 1666.9688625939868'\n",
      "'Best distance for population in iteration 37: 1666.9688625939868'\n",
      "'Best distance for population in iteration 38: 1666.9688625939868'\n",
      "'Best distance for population in iteration 39: 1666.9688625939868'\n",
      "'Best distance for population in iteration 40: 1666.9688625939868'\n",
      "'Best distance for population in iteration 41: 1666.9688625939868'\n",
      "'Best distance for population in iteration 42: 1666.9688625939868'\n",
      "'Best distance for population in iteration 43: 1666.9688625939868'\n",
      "'Best distance for population in iteration 44: 1666.9688625939868'\n",
      "'Best distance for population in iteration 45: 1666.9688625939868'\n",
      "'Best distance for population in iteration 46: 1666.9688625939868'\n",
      "'Best distance for population in iteration 47: 1666.9688625939868'\n",
      "'Best distance for population in iteration 48: 1666.9688625939868'\n",
      "'Best distance for population in iteration 49: 1666.9688625939868'\n",
      "'Best distance for population in iteration 50: 1666.9688625939868'\n",
      "'Best distance for population in iteration 51: 1666.9688625939868'\n",
      "'Best distance for population in iteration 52: 1666.9688625939868'\n",
      "'Best distance for population in iteration 53: 1666.9688625939868'\n",
      "'Best distance for population in iteration 54: 1666.9688625939868'\n",
      "'Best distance for population in iteration 55: 1666.9688625939868'\n",
      "'Best distance for population in iteration 56: 1666.9688625939868'\n",
      "'Best distance for population in iteration 57: 1666.9688625939868'\n",
      "'Best distance for population in iteration 58: 1666.9688625939868'\n",
      "'Best distance for population in iteration 59: 1666.9688625939868'\n",
      "'Best distance for population in iteration 60: 1666.9688625939868'\n",
      "'Best distance for population in iteration 61: 1666.9688625939868'\n",
      "'Best distance for population in iteration 62: 1666.9688625939868'\n",
      "'Best distance for population in iteration 63: 1666.9688625939868'\n",
      "'Best distance for population in iteration 64: 1666.9688625939868'\n",
      "'Best distance for population in iteration 65: 1666.9688625939868'\n",
      "'Best distance for population in iteration 66: 1666.9688625939868'\n",
      "'Best distance for population in iteration 67: 1666.9688625939868'\n",
      "'Best distance for population in iteration 68: 1666.9688625939868'\n",
      "'Best distance for population in iteration 69: 1666.9688625939868'\n",
      "'Best distance for population in iteration 70: 1666.9688625939868'\n",
      "'Best distance for population in iteration 71: 1666.9688625939868'\n",
      "'Best distance for population in iteration 72: 1666.9688625939868'\n",
      "'Best distance for population in iteration 73: 1666.9688625939868'\n",
      "'Best distance for population in iteration 74: 1666.9688625939868'\n",
      "'Best distance for population in iteration 75: 1666.9688625939868'\n",
      "'Best distance for population in iteration 76: 1666.9688625939868'\n",
      "'Best distance for population in iteration 77: 1666.9688625939868'\n",
      "'Best distance for population in iteration 78: 1666.9688625939868'\n",
      "'Best distance for population in iteration 79: 1457.2374129706454'\n",
      "'Best distance for population in iteration 80: 1457.2374129706454'\n",
      "'Best distance for population in iteration 81: 1457.2374129706454'\n",
      "'Best distance for population in iteration 82: 1457.2374129706454'\n",
      "'Best distance for population in iteration 83: 1457.2374129706454'\n",
      "'Best distance for population in iteration 84: 1457.2374129706454'\n",
      "'Best distance for population in iteration 85: 1457.2374129706454'\n",
      "'Best distance for population in iteration 86: 1457.2374129706454'\n",
      "'Best distance for population in iteration 87: 1457.2374129706454'\n",
      "'Best distance for population in iteration 88: 1457.2374129706454'\n",
      "'Best distance for population in iteration 89: 1457.2374129706454'\n",
      "'Best distance for population in iteration 90: 1457.2374129706454'\n",
      "'Best distance for population in iteration 91: 1457.2374129706454'\n",
      "'Best distance for population in iteration 92: 1428.950700520268'\n",
      "'Best distance for population in iteration 93: 1428.950700520268'\n",
      "'Best distance for population in iteration 94: 1428.950700520268'\n",
      "'Best distance for population in iteration 95: 1428.950700520268'\n",
      "'Best distance for population in iteration 96: 1428.950700520268'\n",
      "'Best distance for population in iteration 97: 1428.950700520268'\n",
      "'Best distance for population in iteration 98: 1428.950700520268'\n",
      "'Best distance for population in iteration 99: 1428.950700520268'\n",
      "('Optimal path is [(42033,82917), (42033,82917), (41983,82933), (42033,82750), '\n",
      " '(42133,82750), (42133,82750), (42050,82583), (41967,82533), (41800,82650), '\n",
      " '(42150,82967), (42150,82967)]')\n"
     ]
    }
   ],
   "source": [
    "filename = 'cities10.txt'\n",
    "popSize = 20\n",
    "eliteSize = 5\n",
    "mutationProbability = 0.01\n",
    "iteration_limit = 100\n",
    "\n",
    "cityList = genCityList(filename)\n",
    "\n",
    "population = initialPopulation(popSize, cityList)\n",
    "distances = [Fitness(p).routeDistance() for p in population]\n",
    "min_dist = min(distances)\n",
    "print(\"Best distance for initial population: \" + str(min_dist))\n",
    "\n",
    "for i in range(iteration_limit):\n",
    "    population = oneGeneration(population, eliteSize, mutationProbability)\n",
    "    distances = [Fitness(p).routeDistance() for p in population]\n",
    "    index = np.argmin(distances)\n",
    "    best_route = population[index]\n",
    "    min_dist = min(distances)\n",
    "    print(\"Best distance for population in iteration \" + str(i) +\n",
    "          \": \" + str(min_dist))\n",
    "\n",
    "print(\"Optimal path is \" + str(best_route)) \n",
    "\n",
    "    # Performance Evaluation. You will present the performance achieved \n",
    "    # by different parent selection function. We will compare the \n",
    "    # performance achieved by Random Selection, Tournament Selection, and Proportional Selection. \n",
    "\n",
    "    \n",
    "  "
   ]
  },
  {
   "cell_type": "code",
   "execution_count": null,
   "id": "0eb74b92",
   "metadata": {},
   "outputs": [],
   "source": []
  }
 ],
 "metadata": {
  "kernelspec": {
   "display_name": "Python 3 (ipykernel)",
   "language": "python",
   "name": "python3"
  },
  "language_info": {
   "codemirror_mode": {
    "name": "ipython",
    "version": 3
   },
   "file_extension": ".py",
   "mimetype": "text/x-python",
   "name": "python",
   "nbconvert_exporter": "python",
   "pygments_lexer": "ipython3",
   "version": "3.9.13"
  }
 },
 "nbformat": 4,
 "nbformat_minor": 5
}
